{
 "cells": [
  {
   "cell_type": "markdown",
   "metadata": {},
   "source": [
    "# DSA \n",
    "# Array \n",
    "Stock Buy and Sell – Max one Transaction Allowed\n",
    "\n",
    "Given an array prices[] of length N, representing the prices of the stocks on different days, the task is to find the maximum profit possible by buying and selling the stocks on different days when at most one transaction is allowed. Here one transaction means 1 buy + 1 Sell.\n",
    "\n",
    "Note: Stock must be bought before being sold.\n",
    "\n",
    "Examples:\n",
    "\n",
    "Input: prices[] = {7, 10, 1, 3, 6, 9, 2}\n",
    "Output: 8\n",
    "Explanation: Buy for price 1 and sell for price 9. \n",
    "\n",
    "\n",
    "Input: prices[] = {7, 6, 4, 3, 1} \n",
    "Output: 0\n",
    "Explanation: Since the array is sorted in decreasing order, 0 profit can be made without making any transaction.\n",
    "\n",
    "Input: prices[] = {1, 3, 6, 9, 11} \n",
    "Output: 10\n",
    "Explanation: Since the array is sorted in increasing order, we can make maximum profit by buying at price[0] and selling at price[n-1]\n",
    "\n",
    "Link:  https://www.geeksforgeeks.org/best-time-to-buy-and-sell-stock/"
   ]
  },
  {
   "cell_type": "code",
   "execution_count": 9,
   "metadata": {},
   "outputs": [
    {
     "name": "stdout",
     "output_type": "stream",
     "text": [
      "8\n"
     ]
    }
   ],
   "source": [
    "\n",
    "def max_profit(prices):\n",
    "    n = len(prices)\n",
    "    res = 0\n",
    "\n",
    "    # Explore all possible ways to buy and sell stock\n",
    "    for i in range(n - 1):\n",
    "        for j in range(i + 1, n):\n",
    "            res = max(res, prices[j] - prices[i])\n",
    "    \n",
    "    return res\n",
    "\n",
    "if __name__ == \"__main__\":\n",
    "    prices = [7, 10, 1, 3, 6, 9, 2]\n",
    "    print(max_profit(prices))"
   ]
  },
  {
   "cell_type": "code",
   "execution_count": 5,
   "metadata": {},
   "outputs": [
    {
     "name": "stdout",
     "output_type": "stream",
     "text": [
      "8\n"
     ]
    }
   ],
   "source": [
    "def max_profit(prices):\n",
    "    n = len(prices)\n",
    "    res = 0\n",
    "    f_index = prices[0]\n",
    "\n",
    "    \n",
    "    for i in range(1 , n ):\n",
    "        f_index = min(f_index , prices[i])\n",
    "\n",
    "        res = max(res, prices[i] - f_index)\n",
    "    \n",
    "    return res\n",
    "\n",
    "if __name__ == \"__main__\":\n",
    "    prices = [7, 10, 1, 3, 6, 9, 2]\n",
    "    print(max_profit(prices))"
   ]
  },
  {
   "cell_type": "markdown",
   "metadata": {},
   "source": [
    "Finding sum of digits of a number until sum becomes single digit\n",
    "\n",
    "Given an integer n, we need to repeatedly find the sum of its digits until the result becomes a single-digit number.\n",
    "\n",
    "Examples:\n",
    "\n",
    "Input: n = 1234 \n",
    "Output: 1 \n",
    "Explanation:\n",
    "Step 1: 1 + 2 + 3 + 4 = 10 \n",
    "Step 2: 1 + 0 = 1\n",
    "\n",
    "\n",
    "Input: n = 5674\n",
    "Output: 4\n",
    "Explanation: \n",
    "Step 1: 5 + 6 + 7 + 4 = 22 \n",
    "Step 2: 2 + 2 = 4\n",
    "\n",
    "\n",
    "Link : https://www.geeksforgeeks.org/finding-sum-of-digits-of-a-number-until-sum-becomes-single-digit/"
   ]
  },
  {
   "cell_type": "code",
   "execution_count": 4,
   "metadata": {},
   "outputs": [
    {
     "name": "stdout",
     "output_type": "stream",
     "text": [
      "4\n"
     ]
    }
   ],
   "source": [
    "def single_sum(n):\n",
    "    sum = 0\n",
    "\n",
    "    while n > 0 or sum > 9:\n",
    "        if n == 0:\n",
    "            n = sum\n",
    "            sum = 0\n",
    "\n",
    "        sum = sum +  n %  10\n",
    "        n = n // 10\n",
    "    return sum \n",
    "\n",
    "if __name__ == \"__main__\":\n",
    "    print(single_sum(5674))"
   ]
  },
  {
   "cell_type": "code",
   "execution_count": 7,
   "metadata": {},
   "outputs": [
    {
     "name": "stdout",
     "output_type": "stream",
     "text": [
      "4\n"
     ]
    }
   ],
   "source": [
    "def single_sum(n):\n",
    "    if n == 0:\n",
    "        return 0\n",
    "    if n % 9 == 0:\n",
    "        return 9\n",
    "    return n % 9\n",
    "\n",
    "if __name__ == \"__main__\":\n",
    "    print(single_sum(5674))"
   ]
  },
  {
   "cell_type": "markdown",
   "metadata": {},
   "source": [
    "Remove All Occurrences of an Element in an Array\n",
    "\n",
    "Given an integer array arr[] and an integer ele the task is to the remove all occurrences of ele from arr[] in-place and return the number of elements which are not equal to ele. If there are k number of elements which are not equal to ele then the input array arr[] should be modified such that the first k elements should contain the elements which are not equal to ele and then the remaining elements.\n",
    "\n",
    "Note: The order of first k elements may be changed.\n",
    "\n",
    "Examples:\n",
    "\n",
    "Input: arr[] = [3, 2, 2, 3], ele = 3\n",
    "Output: 2\n",
    "Explanation: The answer is 2 because there are 2 elements which are not equal to 3 and arr[] will be modified such that the first 2 elements contain the elements which are not equal to 3 and remaining elements can contain any element. So, modified arr[] = [2, 2, _, _]\n",
    "\n",
    "Input: arr[] = [0, 1, 3, 0, 2, 2, 4, 2], ele = 2\n",
    "Output: 5\n",
    "Explanation: The answer is 5 because there are 5 elements which are not equal to 2 and arr[] will be modified such that the first 5 elements contain the elements which are not equal to 2 and remaining elements can contain any element. So, modified arr[] = [0, 1, 3, 0, 4, _, _, _]\n",
    "\n",
    "Approach:\n",
    "\n",
    "The idea is to iterate over the array while maintaining a subarray at the beginning that contains only the elements which are not equal to ele. So, we can use a counter, say k to track the ending point of this subarray and whenever we encounter an element which is not equal to ele, we can add the element at kth index and increment the value of k.\n",
    "\n",
    "Link: https://www.geeksforgeeks.org/remove-element/"
   ]
  },
  {
   "cell_type": "code",
   "execution_count": 12,
   "metadata": {},
   "outputs": [
    {
     "name": "stdout",
     "output_type": "stream",
     "text": [
      "2\n"
     ]
    }
   ],
   "source": [
    "def remove_ele(lis, ele):\n",
    "    k = 0\n",
    "    \n",
    "    for i in range(len(lis)):\n",
    "        if lis[i] != ele:\n",
    "            lis[k] = lis[i]\n",
    "            k+=1\n",
    "    return k\n",
    "\n",
    "if __name__ == '__main__':\n",
    "    print(remove_ele([1,2,2,4],2))\n"
   ]
  },
  {
   "cell_type": "markdown",
   "metadata": {},
   "source": [
    "Remove duplicates from Sorted Array\n",
    "\n",
    "Given a sorted array arr[] of size n, the goal is to rearrange the array so that all distinct elements appear at the beginning in sorted order. Additionally, return the length of this distinct sorted subarray.\n",
    "\n",
    "Note: The elements after the distinct ones can be in any order and hold any value, as they don’t affect the result.\n",
    "\n",
    "Examples: \n",
    "\n",
    "Input: arr[] = [2, 2, 2, 2, 2]\n",
    "Output: [2]\n",
    "Explanation: All the elements are 2, So only keep one instance of 2.\n",
    "\n",
    "\n",
    "Input: arr[] = [1, 2, 2, 3, 4, 4, 4, 5, 5]\n",
    "Output: [1, 2, 3, 4, 5]\n",
    "\n",
    "Input: arr[] = [1, 2, 3]\n",
    "Output: [1, 2, 3]\n",
    "Explanation : No change as all elements are distinct."
   ]
  },
  {
   "cell_type": "code",
   "execution_count": 15,
   "metadata": {},
   "outputs": [
    {
     "name": "stdout",
     "output_type": "stream",
     "text": [
      "1\n",
      "2\n",
      "3\n",
      "4\n",
      "5\n"
     ]
    }
   ],
   "source": [
    "def no_duplication(n):\n",
    "\n",
    "    seen = set()\n",
    "    idx = 0\n",
    "\n",
    "    for i in range(len(n)):\n",
    "\n",
    "        if n[i] not in seen:\n",
    "            seen.add(n[i])\n",
    "            n[idx] = n[i]\n",
    "            idx += 1\n",
    "    return idx\n",
    "\n",
    "if __name__ == \"__main__\":\n",
    "    arr = [1, 2, 2, 3, 4, 4, 4, 5, 5]\n",
    "    num = no_duplication(arr)\n",
    "\n",
    "    for i in range(num):\n",
    "        print(arr[i])\n"
   ]
  },
  {
   "cell_type": "markdown",
   "metadata": {},
   "source": [
    "Rearrange Array Elements by Sign\n",
    "\n",
    "Given an array arr[] of size n, the task is to rearrange it in alternate positive and negative manner without changing the relative order of positive and negative numbers. In case of extra positive/negative numbers, they appear at the end of the array.\n",
    "\n",
    "Note: The rearranged array should start with a positive number and 0 (zero) should be considered as a positive number.\n",
    "\n",
    "Examples: \n",
    "\n",
    "Input:  arr[] = {1, 2, 3, -4, -1, 4}\n",
    "Output: arr[] = {1, -4, 2, -1, 3, 4}\n",
    "\n",
    "\n",
    "Input:  arr[] = {-5, -2, 5, 2, 4, 7, 1, 8, 0, -8}\n",
    "Output: arr[] = {-5, 5, -2, 2, -8, 4, 7, 1, 8, 0}\n",
    "\n",
    "https://www.geeksforgeeks.org/rearrange-array-alternating-positive-negative-items-o1-extra-space/"
   ]
  },
  {
   "cell_type": "code",
   "execution_count": 9,
   "metadata": {},
   "outputs": [
    {
     "name": "stdout",
     "output_type": "stream",
     "text": [
      "1 -4 2 -1 3 4\n"
     ]
    }
   ],
   "source": [
    "def rearrange(num,start,end):\n",
    "    temp = num[end]\n",
    "    for i in range(end, start , -1):\n",
    "        num[i] = num[i-1]\n",
    "    num[start] = temp\n",
    "\n",
    "\n",
    "def alter(num):\n",
    "\n",
    "    n = len(num)\n",
    "\n",
    "    for i in range(n):\n",
    "        # check element(+/-) and index \n",
    "        if num[i]  >= 0 and i % 2 == 1:\n",
    "            for j in range(i+1 , n):\n",
    "                if num[j] < 0:\n",
    "                    rearrange(num,i,j)\n",
    "                    break\n",
    "        elif num[i] < 0 and i % 2 == 0:\n",
    "            for j in range (i+1, n):\n",
    "                if num[j] >= 0:\n",
    "                    rearrange(num, i, j)\n",
    "                    break\n",
    "\n",
    "if __name__ == \"__main__\":\n",
    "    num = [1, 2, 3, -4, -1, 4]\n",
    "    alter(num)\n",
    "    print(\" \".join(map(str, num)))"
   ]
  },
  {
   "cell_type": "markdown",
   "metadata": {},
   "source": [
    "Leaders in an array\n",
    "\n",
    "Given an array arr[] of size n, the task is to find all the Leaders in the array. An element is a Leader if it is greater than or equal to all the elements to its right side.\n",
    "\n",
    "Note: The rightmost element is always a leader.\n",
    "\n",
    "Examples:\n",
    "\n",
    "Input: arr[] = [16, 17, 4, 3, 5, 2]\n",
    "Output: [17 5 2]\n",
    "Explanation: 17 is greater than all the elements to its right i.e., [4, 3, 5, 2], therefore 17 is a leader. 5 is greater than all the elements to its right i.e., [2], therefore 5 is a leader. 2 has no element to its right, therefore 2 is a leader.\n",
    "\n",
    "\n",
    "Input: arr[] = [1, 2, 3, 4, 5, 2]\n",
    "Output: [5 2]\n",
    "Explanation: 5 is greater than all the elements to its right i.e., [2], therefore 5 is a leader. 2 has no element to its right, therefore 2 is a leader.\n",
    "\n",
    "https://www.geeksforgeeks.org/leaders-in-an-array/"
   ]
  },
  {
   "cell_type": "code",
   "execution_count": 12,
   "metadata": {},
   "outputs": [
    {
     "name": "stdout",
     "output_type": "stream",
     "text": [
      "17 5 2\n"
     ]
    }
   ],
   "source": [
    "def leader(num):\n",
    "    n = len(num)\n",
    "    result = []\n",
    "    for i in range (n):\n",
    "        for j in range (i+1 , n ):\n",
    "            if num[i] < num[j]:\n",
    "                break\n",
    "        else:\n",
    "            result.append(num[i])\n",
    "    return result\n",
    "\n",
    "if __name__ == \"__main__\":\n",
    "    num = [16, 17, 4, 3, 5, 2]\n",
    "    sol = leader(num)\n",
    "    print(\" \".join(map(str, sol)))\n",
    "    "
   ]
  },
  {
   "cell_type": "code",
   "execution_count": 18,
   "metadata": {},
   "outputs": [
    {
     "name": "stdout",
     "output_type": "stream",
     "text": [
      "17 5 2\n"
     ]
    }
   ],
   "source": [
    "def leader(num):\n",
    "    n = len(num)\n",
    "    result = []\n",
    "    last_ele = num[-1]\n",
    "    result.append(last_ele)\n",
    "\n",
    "    for i in range(n-2, -1, -1):\n",
    "        if num[i] > last_ele:\n",
    "            last_ele = num[i]\n",
    "            result.append(last_ele)\n",
    "    return result[::-1]\n",
    "\n",
    "if __name__ == \"__main__\":\n",
    "    num = [16, 17, 4, 3, 5, 2]\n",
    "    sol = leader(num)\n",
    "    print(\" \".join(map(str, sol)))\n",
    "\n"
   ]
  },
  {
   "cell_type": "markdown",
   "metadata": {},
   "source": [
    "Missing and Repeating in an Array\n",
    "\n",
    "Given an unsorted array of size n. Array elements are in the range of 1 to n. One number from set {1, 2, …n} is missing and one number occurs twice in the array. Find these two numbers.\n",
    "\n",
    "Examples: \n",
    "\n",
    "Input: arr[] = {3, 1, 3}\n",
    "Output: Missing = 2, Repeating = 3\n",
    "Explanation: In the array, 2 is missing and 3 occurs twice \n",
    "\n",
    "\n",
    "Input: arr[] = {4, 3, 6, 2, 1, 1}\n",
    "Output: Missing = 5, Repeating = 1\n",
    "\n",
    "https://www.geeksforgeeks.org/find-a-repeating-and-a-missing-number/"
   ]
  },
  {
   "cell_type": "code",
   "execution_count": null,
   "metadata": {},
   "outputs": [],
   "source": []
  }
 ],
 "metadata": {
  "kernelspec": {
   "display_name": "base",
   "language": "python",
   "name": "python3"
  },
  "language_info": {
   "codemirror_mode": {
    "name": "ipython",
    "version": 3
   },
   "file_extension": ".py",
   "mimetype": "text/x-python",
   "name": "python",
   "nbconvert_exporter": "python",
   "pygments_lexer": "ipython3",
   "version": "3.10.9"
  }
 },
 "nbformat": 4,
 "nbformat_minor": 2
}
