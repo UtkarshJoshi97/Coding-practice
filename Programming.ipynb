{
 "cells": [
  {
   "cell_type": "markdown",
   "metadata": {},
   "source": [
    "# DSA \n",
    "# Array \n",
    "Stock Buy and Sell – Max one Transaction Allowed\n",
    "\n",
    "Given an array prices[] of length N, representing the prices of the stocks on different days, the task is to find the maximum profit possible by buying and selling the stocks on different days when at most one transaction is allowed. Here one transaction means 1 buy + 1 Sell.\n",
    "\n",
    "Note: Stock must be bought before being sold.\n",
    "\n",
    "Examples:\n",
    "\n",
    "Input: prices[] = {7, 10, 1, 3, 6, 9, 2}\n",
    "Output: 8\n",
    "Explanation: Buy for price 1 and sell for price 9. \n",
    "\n",
    "\n",
    "Input: prices[] = {7, 6, 4, 3, 1} \n",
    "Output: 0\n",
    "Explanation: Since the array is sorted in decreasing order, 0 profit can be made without making any transaction.\n",
    "\n",
    "Input: prices[] = {1, 3, 6, 9, 11} \n",
    "Output: 10\n",
    "Explanation: Since the array is sorted in increasing order, we can make maximum profit by buying at price[0] and selling at price[n-1]\n",
    "\n"
   ]
  },
  {
   "cell_type": "code",
   "execution_count": 9,
   "metadata": {},
   "outputs": [
    {
     "name": "stdout",
     "output_type": "stream",
     "text": [
      "8\n"
     ]
    }
   ],
   "source": [
    "\n",
    "def max_profit(prices):\n",
    "    n = len(prices)\n",
    "    res = 0\n",
    "\n",
    "    # Explore all possible ways to buy and sell stock\n",
    "    for i in range(n - 1):\n",
    "        for j in range(i + 1, n):\n",
    "            res = max(res, prices[j] - prices[i])\n",
    "    \n",
    "    return res\n",
    "\n",
    "if __name__ == \"__main__\":\n",
    "    prices = [7, 10, 1, 3, 6, 9, 2]\n",
    "    print(max_profit(prices))"
   ]
  },
  {
   "cell_type": "code",
   "execution_count": 11,
   "metadata": {},
   "outputs": [
    {
     "name": "stdout",
     "output_type": "stream",
     "text": [
      "8\n"
     ]
    }
   ],
   "source": [
    "def max_profit(prices):\n",
    "    n = len(prices)\n",
    "    res = 0\n",
    "    f_index = prices[0]\n",
    "\n",
    "    # Explore all possible ways to buy and sell stock\n",
    "    for i in range(1 , n ):\n",
    "        f_index = min(f_index , prices[i])\n",
    "\n",
    "        res = max(res, prices[i] - f_index)\n",
    "    \n",
    "    return res\n",
    "\n",
    "if __name__ == \"__main__\":\n",
    "    prices = [7, 10, 1, 3, 6, 9, 2]\n",
    "    print(max_profit(prices))"
   ]
  },
  {
   "cell_type": "code",
   "execution_count": null,
   "metadata": {},
   "outputs": [],
   "source": []
  }
 ],
 "metadata": {
  "kernelspec": {
   "display_name": "base",
   "language": "python",
   "name": "python3"
  },
  "language_info": {
   "codemirror_mode": {
    "name": "ipython",
    "version": 3
   },
   "file_extension": ".py",
   "mimetype": "text/x-python",
   "name": "python",
   "nbconvert_exporter": "python",
   "pygments_lexer": "ipython3",
   "version": "3.10.9"
  }
 },
 "nbformat": 4,
 "nbformat_minor": 2
}
